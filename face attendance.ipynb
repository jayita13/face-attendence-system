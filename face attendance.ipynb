{
 "cells": [
  {
   "cell_type": "code",
   "execution_count": 3,
   "metadata": {},
   "outputs": [
    {
     "name": "stdout",
     "output_type": "stream",
     "text": [
      "[False] [0.6767912]\n"
     ]
    }
   ],
   "source": [
    "import cv2\n",
    "import face_recognition\n",
    " \n",
    "imgAng = face_recognition.load_image_file('andrew_ng.jpg')\n",
    "Test = face_recognition.load_image_file('ian_godfellow.jpg')\n",
    " \n",
    "fLoc = face_recognition.face_locations(imgAng)[0]\n",
    "encodeAng = face_recognition.face_encodings(imgAng)[0]\n",
    "\n",
    "fLocTest = face_recognition.face_locations(Test)[0]\n",
    "encTest = face_recognition.face_encodings(Test)[0]\n",
    "\n",
    "result = face_recognition.compare_faces([encodeAng],encTest)\n",
    "faceDist = face_recognition.face_distance([encodeAng],encTest)\n",
    "\n",
    "print(result,faceDist)\n",
    " "
   ]
  },
  {
   "cell_type": "code",
   "execution_count": 7,
   "metadata": {},
   "outputs": [
    {
     "name": "stdout",
     "output_type": "stream",
     "text": [
      "['andrew_ng.jpg', 'ian_godfellow.jpg', 'Jayita.jpg']\n",
      "['andrew_ng', 'ian_godfellow', 'Jayita']\n",
      "Encoding Complete\n"
     ]
    },
    {
     "ename": "KeyboardInterrupt",
     "evalue": "",
     "output_type": "error",
     "traceback": [
      "\u001b[1;31m---------------------------------------------------------------------------\u001b[0m",
      "\u001b[1;31mKeyboardInterrupt\u001b[0m                         Traceback (most recent call last)",
      "\u001b[1;32m<ipython-input-7-23261e693757>\u001b[0m in \u001b[0;36m<module>\u001b[1;34m\u001b[0m\n\u001b[0;32m     73\u001b[0m \u001b[1;33m\u001b[0m\u001b[0m\n\u001b[0;32m     74\u001b[0m     \u001b[0mcv2\u001b[0m\u001b[1;33m.\u001b[0m\u001b[0mimshow\u001b[0m\u001b[1;33m(\u001b[0m\u001b[1;34m'Webcam'\u001b[0m\u001b[1;33m,\u001b[0m\u001b[0mimg\u001b[0m\u001b[1;33m)\u001b[0m\u001b[1;33m\u001b[0m\u001b[1;33m\u001b[0m\u001b[0m\n\u001b[1;32m---> 75\u001b[1;33m     \u001b[0mk\u001b[0m \u001b[1;33m=\u001b[0m \u001b[0mcv2\u001b[0m\u001b[1;33m.\u001b[0m\u001b[0mwaitKey\u001b[0m\u001b[1;33m(\u001b[0m\u001b[1;36m0\u001b[0m\u001b[1;33m)\u001b[0m\u001b[1;33m\u001b[0m\u001b[1;33m\u001b[0m\u001b[0m\n\u001b[0m\u001b[0;32m     76\u001b[0m     \u001b[1;32mif\u001b[0m \u001b[0mk\u001b[0m \u001b[1;33m==\u001b[0m \u001b[1;36m27\u001b[0m\u001b[1;33m:\u001b[0m         \u001b[1;31m# wait for ESC key to exit\u001b[0m\u001b[1;33m\u001b[0m\u001b[1;33m\u001b[0m\u001b[0m\n\u001b[0;32m     77\u001b[0m         \u001b[1;32mbreak\u001b[0m\u001b[1;33m\u001b[0m\u001b[1;33m\u001b[0m\u001b[0m\n",
      "\u001b[1;31mKeyboardInterrupt\u001b[0m: "
     ]
    }
   ],
   "source": [
    "import cv2\n",
    "import numpy as np\n",
    "import face_recognition\n",
    "import os\n",
    "from datetime import datetime\n",
    "# from PIL import ImageGrab\n",
    " \n",
    "pathlib = 'ImagesAttendance'\n",
    "images = []\n",
    "Names = []\n",
    "myList = os.listdir(pathlib)\n",
    "print(myList)\n",
    "for cl in myList:\n",
    "    currImg = cv2.imread(f'{pathlib}/{cl}')\n",
    "    images.append(currImg)\n",
    "    Names.append(os.path.splitext(cl)[0])\n",
    "print(Names)\n",
    " \n",
    "def DbEncodings(images):\n",
    "    encList = []\n",
    "    for image in images:\n",
    "        image = cv2.cvtColor(image, cv2.COLOR_BGR2RGB)\n",
    "        enc = face_recognition.face_encodings(image)[0]\n",
    "        encList.append(enc)\n",
    "    return encList\n",
    " \n",
    "def Attendance(name):\n",
    "    with open('Attendance_Register.csv','r+') as f:\n",
    "        DataList = f.readlines()\n",
    "        names = []\n",
    "        for data in DataList:\n",
    "            ent = data.split(',')\n",
    "            names.append(ent[0])\n",
    "        if name not in names:\n",
    "            curr = datetime.now()\n",
    "            dt = curr.strftime('%H:%M:%S')\n",
    "            f.writelines(f'\\n{name},{dt}')\n",
    "\n",
    "#### FOR CAPTURING SCREEN RATHER THAN WEBCAM\n",
    "# def captureScreen(bbox=(300,300,690+300,530+300)):\n",
    "#     capScr = np.array(ImageGrab.grab(bbox))\n",
    "#     capScr = cv2.cvtColor(capScr, cv2.COLOR_RGB2BGR)\n",
    "#     return capScr\n",
    " \n",
    "encodeKnown = DbEncodings(images)\n",
    "print('Encoding Complete')\n",
    " \n",
    "cap = cv2.VideoCapture(0)\n",
    " \n",
    "while True:\n",
    "    _, img = cap.read()\n",
    "    image = cv2.resize(img,(0,0),None,0.25,0.25)\n",
    "    image = cv2.cvtColor(image, cv2.COLOR_BGR2RGB)\n",
    "\n",
    "    facesInFrame = face_recognition.face_locations(image)\n",
    "    encodesInFrame = face_recognition.face_encodings(image,facesInFrame)\n",
    "\n",
    "    for encFace,faceLoc in zip(encodesInFrame,facesInFrame):\n",
    "        matchList = face_recognition.compare_faces(encodeKnown,encFace)\n",
    "        faceDis = face_recognition.face_distance(encodeKnown,encFace)\n",
    "        #print(faceDis)\n",
    "        match = np.argmin(faceDis)\n",
    "\n",
    "        if matchList[match]:\n",
    "            name = Names[match].upper()\n",
    "            #print(name)\n",
    "            y,w,z,x = faceLoc\n",
    "            y, w, z, x1 = y*4,w*4,z*4,x*4\n",
    "            cv2.rectangle(img,(x,y),(w,z),(0,255,0),2)\n",
    "            cv2.rectangle(img,(x,z-35),(w,z),(0,255,0),cv2.FILLED)\n",
    "            cv2.putText(img,name,(x+6,z-6),cv2.FONT_HERSHEY_COMPLEX,1,(255,255,255),2)\n",
    "            Attendance(name)\n",
    "\n",
    "    cv2.imshow('Webcam',img)\n",
    "    k = cv2.waitKey(0)\n",
    "    if k == 27:         # wait for ESC key to exit\n",
    "        break\n",
    "        cv2.destroyAllWindows()"
   ]
  },
  {
   "cell_type": "code",
   "execution_count": null,
   "metadata": {},
   "outputs": [],
   "source": []
  },
  {
   "cell_type": "code",
   "execution_count": null,
   "metadata": {},
   "outputs": [],
   "source": []
  }
 ],
 "metadata": {
  "kernelspec": {
   "display_name": "Python 3",
   "language": "python",
   "name": "python3"
  },
  "language_info": {
   "codemirror_mode": {
    "name": "ipython",
    "version": 3
   },
   "file_extension": ".py",
   "mimetype": "text/x-python",
   "name": "python",
   "nbconvert_exporter": "python",
   "pygments_lexer": "ipython3",
   "version": "3.7.3"
  }
 },
 "nbformat": 4,
 "nbformat_minor": 4
}
